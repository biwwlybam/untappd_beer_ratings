{
 "cells": [
  {
   "cell_type": "code",
   "execution_count": 1,
   "id": "7dc8c3d5",
   "metadata": {},
   "outputs": [],
   "source": [
    "# import Selenium components for scraping\n",
    "from selenium import webdriver\n",
    "from selenium.webdriver.chrome.service import Service\n",
    "from webdriver_manager.chrome import ChromeDriverManager\n",
    "from selenium.webdriver.common.by import By\n",
    "from selenium.webdriver.support.ui import WebDriverWait\n",
    "from selenium.webdriver.support import expected_conditions as EC\n",
    "\n",
    "# import pandas to create dataframe\n",
    "import pandas as pd\n",
    "\n",
    "# import numpy to deal with NaN values\n",
    "import numpy as np\n",
    "\n",
    "# import datetime for consistent column naming\n",
    "from datetime import date\n",
    "\n",
    "# remove warning when changing score dtype to float\n",
    "pd.options.mode.chained_assignment = None  # default='warn'"
   ]
  },
  {
   "cell_type": "code",
   "execution_count": 2,
   "id": "4c829a12",
   "metadata": {},
   "outputs": [
    {
     "name": "stdout",
     "output_type": "stream",
     "text": [
      "\n"
     ]
    }
   ],
   "source": [
    "# set up Chrome driver and direct to target brewery\n",
    "# note that as a sample we're directing to Burial Beer in Asheville, NC\n",
    "driver = webdriver.Chrome(service=Service(ChromeDriverManager().install()))\n",
    "driver.get(\"https://untappd.com/login?go_to=https://untappd.com/BurialBeer/beer\")"
   ]
  },
  {
   "cell_type": "markdown",
   "id": "7a736f59",
   "metadata": {},
   "source": [
    "### Logging in"
   ]
  },
  {
   "cell_type": "markdown",
   "id": "eea38fe6",
   "metadata": {},
   "source": [
    "First we need to log in because Untappd won't allow us to show more than 25 beers without being logged in. I'm sure there are some complex solutions to getting around the image selector the the reCaptcha near the end of this login process, but for now this program is manually run anyway so we will need to finish the login process in the browser. I've included code to get us to the end of the reCaptcha mostly for fun and as a challenge to myself.\n",
    "\n",
    "You will need to fill in your own username and password as strings in the variables below."
   ]
  },
  {
   "cell_type": "code",
   "execution_count": 3,
   "id": "85de9f05",
   "metadata": {},
   "outputs": [],
   "source": [
    "# login credentials\n",
    "username = 'username'\n",
    "password = 'password'\n",
    "\n",
    "# log in\n",
    "driver.find_element(By.ID, 'username').send_keys(username)\n",
    "driver.find_element(By.ID, 'password').send_keys(password)\n",
    "\n",
    "# reCaptcha is behind an iFrame\n",
    "WebDriverWait(driver, 20).until(\n",
    "    EC.frame_to_be_available_and_switch_to_it((By.XPATH,\"//iframe[@title='reCAPTCHA']\"))\n",
    ")\n",
    "WebDriverWait(driver, 20).until(\n",
    "    EC.element_to_be_clickable((By.CSS_SELECTOR, \"div.recaptcha-checkbox-border\"))\n",
    ").click()\n",
    "\n",
    "# reCAPTCHA image selector pops up, manually select and submit login"
   ]
  },
  {
   "cell_type": "markdown",
   "id": "4884d6ee",
   "metadata": {},
   "source": [
    "### Sorting beers and showing all"
   ]
  },
  {
   "cell_type": "markdown",
   "id": "53ca45ce",
   "metadata": {},
   "source": [
    "When we've successfully logged in, we can run the next step. We will sort the beers from old to new so that beers in our original list will always stay in the same position and the columns we add in the future, when joined, will just lengthen the list.\n",
    "\n",
    "This step will end in a \"Timeout Exception\" error. When the \"Show More\" button is no longer visible this step will time out, however we will have gotten the result we want -- all of the brewery's beers will now be displayed on the page."
   ]
  },
  {
   "cell_type": "code",
   "execution_count": 4,
   "id": "ef978282",
   "metadata": {},
   "outputs": [
    {
     "ename": "TimeoutException",
     "evalue": "Message: \n",
     "output_type": "error",
     "traceback": [
      "\u001b[0;31m---------------------------------------------------------------------------\u001b[0m",
      "\u001b[0;31mTimeoutException\u001b[0m                          Traceback (most recent call last)",
      "Input \u001b[0;32mIn [4]\u001b[0m, in \u001b[0;36m<cell line: 8>\u001b[0;34m()\u001b[0m\n\u001b[1;32m      8\u001b[0m \u001b[38;5;28;01mwhile\u001b[39;00m \u001b[38;5;28mlen\u001b[39m(show_more_presence) \u001b[38;5;241m>\u001b[39m \u001b[38;5;241m0\u001b[39m:\n\u001b[1;32m      9\u001b[0m     show_more\u001b[38;5;241m.\u001b[39mclick()\n\u001b[0;32m---> 10\u001b[0m     \u001b[43mWebDriverWait\u001b[49m\u001b[43m(\u001b[49m\u001b[43mdriver\u001b[49m\u001b[43m,\u001b[49m\u001b[43m \u001b[49m\u001b[38;5;241;43m5\u001b[39;49m\u001b[43m)\u001b[49m\u001b[38;5;241;43m.\u001b[39;49m\u001b[43muntil\u001b[49m\u001b[43m(\u001b[49m\n\u001b[1;32m     11\u001b[0m \u001b[43m        \u001b[49m\u001b[43mEC\u001b[49m\u001b[38;5;241;43m.\u001b[39;49m\u001b[43mvisibility_of_element_located\u001b[49m\u001b[43m(\u001b[49m\u001b[43m(\u001b[49m\u001b[43mBy\u001b[49m\u001b[38;5;241;43m.\u001b[39;49m\u001b[43mXPATH\u001b[49m\u001b[43m,\u001b[49m\u001b[43m \u001b[49m\u001b[38;5;124;43m'\u001b[39;49m\u001b[38;5;124;43m//a[@class=\u001b[39;49m\u001b[38;5;124;43m\"\u001b[39;49m\u001b[38;5;124;43mbutton yellow more-list-items track-click\u001b[39;49m\u001b[38;5;124;43m\"\u001b[39;49m\u001b[38;5;124;43m]\u001b[39;49m\u001b[38;5;124;43m'\u001b[39;49m\u001b[43m)\u001b[49m\u001b[43m)\u001b[49m\n\u001b[1;32m     12\u001b[0m \u001b[43m    \u001b[49m\u001b[43m)\u001b[49m\n",
      "File \u001b[0;32m/opt/anaconda3/lib/python3.9/site-packages/selenium/webdriver/support/wait.py:90\u001b[0m, in \u001b[0;36mWebDriverWait.until\u001b[0;34m(self, method, message)\u001b[0m\n\u001b[1;32m     88\u001b[0m     \u001b[38;5;28;01mif\u001b[39;00m time\u001b[38;5;241m.\u001b[39mmonotonic() \u001b[38;5;241m>\u001b[39m end_time:\n\u001b[1;32m     89\u001b[0m         \u001b[38;5;28;01mbreak\u001b[39;00m\n\u001b[0;32m---> 90\u001b[0m \u001b[38;5;28;01mraise\u001b[39;00m TimeoutException(message, screen, stacktrace)\n",
      "\u001b[0;31mTimeoutException\u001b[0m: Message: \n"
     ]
    }
   ],
   "source": [
    "# sort beers from old to new\n",
    "driver.get('https://untappd.com/BurialBeer/beer?sort=created_at')\n",
    "\n",
    "# show all beers by clicking \"Show More\" button\n",
    "show_more = driver.find_element(By.XPATH, '//a[@class=\"button yellow more-list-items track-click\"]')\n",
    "show_more_presence = driver.find_elements(By.XPATH, '//a[@class=\"button yellow more-list-items track-click\"]')\n",
    "\n",
    "while len(show_more_presence) > 0:\n",
    "    show_more.click()\n",
    "    WebDriverWait(driver, 5).until(\n",
    "        EC.visibility_of_element_located((By.XPATH, '//a[@class=\"button yellow more-list-items track-click\"]'))\n",
    "    )"
   ]
  },
  {
   "cell_type": "markdown",
   "id": "2d17ef0b",
   "metadata": {},
   "source": [
    "### Creating our lists and dataframe"
   ]
  },
  {
   "cell_type": "code",
   "execution_count": 5,
   "id": "818c8d2b",
   "metadata": {},
   "outputs": [],
   "source": [
    "# find beer names\n",
    "beer_names = driver.find_elements(By.XPATH, '//p[@class=\"name\"]')\n",
    "\n",
    "# put beer name text in a list\n",
    "beer_name_list = []\n",
    "for name in range(len(beer_names)):\n",
    "    beer_name_list.append(beer_names[name].text)"
   ]
  },
  {
   "cell_type": "code",
   "execution_count": 6,
   "id": "149a43e3",
   "metadata": {},
   "outputs": [],
   "source": [
    "# find beer styles\n",
    "beer_styles = driver.find_elements(By.XPATH, '//p[@class=\"style\"]')\n",
    "\n",
    "# put style text in list\n",
    "style_list = []\n",
    "for style in range(len(beer_styles)):\n",
    "    style_list.append(beer_styles[style].text)\n",
    "    \n",
    "# skip overall brewery style (first)\n",
    "style_list = style_list[1:]"
   ]
  },
  {
   "cell_type": "code",
   "execution_count": 7,
   "id": "5f5df7a5",
   "metadata": {},
   "outputs": [],
   "source": [
    "# find beer scores\n",
    "beer_scores = driver.find_elements(By.XPATH, '//span[@class=\"num\"]')\n",
    "\n",
    "# create list of beer scores\n",
    "beer_score_list_unformatted = []\n",
    "for score in range(len(beer_scores)):\n",
    "    beer_score_list_unformatted.append(beer_scores[score].text)\n",
    "    \n",
    "# remove parentheses around scores\n",
    "beer_score_list = []\n",
    "for score in beer_score_list_unformatted:\n",
    "    beer_score_list.append(score.strip('()'))\n",
    "\n",
    "# skip overall brewery score (first)\n",
    "beer_score_list = beer_score_list[1:]"
   ]
  },
  {
   "cell_type": "code",
   "execution_count": 8,
   "id": "430ca026",
   "metadata": {},
   "outputs": [],
   "source": [
    "# create dataframe\n",
    "df = pd.DataFrame()\n",
    "\n",
    "# use today's date to name our score column\n",
    "today_str = date.today().strftime('%m-%d-%Y')\n",
    "\n",
    "# add columns to dataframe\n",
    "df['beer_names'] = beer_name_list\n",
    "df['style'] = style_list\n",
    "df[today_str] = beer_score_list"
   ]
  },
  {
   "cell_type": "code",
   "execution_count": 9,
   "id": "5cdfc66e",
   "metadata": {},
   "outputs": [
    {
     "data": {
      "text/html": [
       "<div>\n",
       "<style scoped>\n",
       "    .dataframe tbody tr th:only-of-type {\n",
       "        vertical-align: middle;\n",
       "    }\n",
       "\n",
       "    .dataframe tbody tr th {\n",
       "        vertical-align: top;\n",
       "    }\n",
       "\n",
       "    .dataframe thead th {\n",
       "        text-align: right;\n",
       "    }\n",
       "</style>\n",
       "<table border=\"1\" class=\"dataframe\">\n",
       "  <thead>\n",
       "    <tr style=\"text-align: right;\">\n",
       "      <th></th>\n",
       "      <th>beer_names</th>\n",
       "      <th>style</th>\n",
       "      <th>07-30-2022</th>\n",
       "    </tr>\n",
       "  </thead>\n",
       "  <tbody>\n",
       "    <tr>\n",
       "      <th>0</th>\n",
       "      <td>Hatchet</td>\n",
       "      <td>Pilsner - German</td>\n",
       "      <td>3.58</td>\n",
       "    </tr>\n",
       "    <tr>\n",
       "      <th>1</th>\n",
       "      <td>Skillet Donut Stout</td>\n",
       "      <td>Stout - Coffee</td>\n",
       "      <td>4.17</td>\n",
       "    </tr>\n",
       "    <tr>\n",
       "      <th>2</th>\n",
       "      <td>Billhook Farmhouse Ale</td>\n",
       "      <td>Farmhouse Ale - Saison</td>\n",
       "      <td>3.7</td>\n",
       "    </tr>\n",
       "    <tr>\n",
       "      <th>3</th>\n",
       "      <td>Scythe Rye IPA</td>\n",
       "      <td>IPA - Rye</td>\n",
       "      <td>3.92</td>\n",
       "    </tr>\n",
       "    <tr>\n",
       "      <th>4</th>\n",
       "      <td>Hacksaw Dunkel</td>\n",
       "      <td>Lager - Munich Dunkel</td>\n",
       "      <td>3.65</td>\n",
       "    </tr>\n",
       "    <tr>\n",
       "      <th>...</th>\n",
       "      <td>...</td>\n",
       "      <td>...</td>\n",
       "      <td>...</td>\n",
       "    </tr>\n",
       "    <tr>\n",
       "      <th>1229</th>\n",
       "      <td>Treading Onward Towards Oblivion</td>\n",
       "      <td>IPA - Imperial / Double</td>\n",
       "      <td>N/A</td>\n",
       "    </tr>\n",
       "    <tr>\n",
       "      <th>1230</th>\n",
       "      <td>Provincial Illusions of Antiquity</td>\n",
       "      <td>IPA - American</td>\n",
       "      <td>N/A</td>\n",
       "    </tr>\n",
       "    <tr>\n",
       "      <th>1231</th>\n",
       "      <td>Tonin' the Destroyer</td>\n",
       "      <td>IPA - American</td>\n",
       "      <td>4.18</td>\n",
       "    </tr>\n",
       "    <tr>\n",
       "      <th>1232</th>\n",
       "      <td>Please Rescue Me From My Own Ignorant Barrage ...</td>\n",
       "      <td>Stout - Imperial / Double</td>\n",
       "      <td>4.48</td>\n",
       "    </tr>\n",
       "    <tr>\n",
       "      <th>1233</th>\n",
       "      <td>Burial the Legacy Is An Obstruction To Unbridl...</td>\n",
       "      <td>Stout - Imperial / Double</td>\n",
       "      <td>N/A</td>\n",
       "    </tr>\n",
       "  </tbody>\n",
       "</table>\n",
       "<p>1234 rows × 3 columns</p>\n",
       "</div>"
      ],
      "text/plain": [
       "                                             beer_names  \\\n",
       "0                                               Hatchet   \n",
       "1                                   Skillet Donut Stout   \n",
       "2                                Billhook Farmhouse Ale   \n",
       "3                                        Scythe Rye IPA   \n",
       "4                                        Hacksaw Dunkel   \n",
       "...                                                 ...   \n",
       "1229                   Treading Onward Towards Oblivion   \n",
       "1230                  Provincial Illusions of Antiquity   \n",
       "1231                               Tonin' the Destroyer   \n",
       "1232  Please Rescue Me From My Own Ignorant Barrage ...   \n",
       "1233  Burial the Legacy Is An Obstruction To Unbridl...   \n",
       "\n",
       "                          style 07-30-2022  \n",
       "0              Pilsner - German       3.58  \n",
       "1                Stout - Coffee       4.17  \n",
       "2        Farmhouse Ale - Saison        3.7  \n",
       "3                     IPA - Rye       3.92  \n",
       "4         Lager - Munich Dunkel       3.65  \n",
       "...                         ...        ...  \n",
       "1229    IPA - Imperial / Double        N/A  \n",
       "1230             IPA - American        N/A  \n",
       "1231             IPA - American       4.18  \n",
       "1232  Stout - Imperial / Double       4.48  \n",
       "1233  Stout - Imperial / Double        N/A  \n",
       "\n",
       "[1234 rows x 3 columns]"
      ]
     },
     "execution_count": 9,
     "metadata": {},
     "output_type": "execute_result"
    }
   ],
   "source": [
    "# check dataframe\n",
    "df"
   ]
  },
  {
   "cell_type": "markdown",
   "id": "41d8f61a",
   "metadata": {},
   "source": [
    "Currently our columns are both object types, so before we move on, lets remove beers with N/A as their score, change names to strings, and change scores to floats."
   ]
  },
  {
   "cell_type": "code",
   "execution_count": 10,
   "id": "089d7f7b",
   "metadata": {},
   "outputs": [
    {
     "data": {
      "text/plain": [
       "beer_names     string\n",
       "style          string\n",
       "07-30-2022    float64\n",
       "dtype: object"
      ]
     },
     "execution_count": 10,
     "metadata": {},
     "output_type": "execute_result"
    }
   ],
   "source": [
    "# replace 'N/A' scores as NaN\n",
    "df[today_str].replace('N/A', np.nan, inplace=True)\n",
    "\n",
    "# cast names as strings\n",
    "df['beer_names'] = df['beer_names'].astype('string')\n",
    "\n",
    "# cast styles as strings\n",
    "df['style'] = df['style'].astype('string')\n",
    "\n",
    "# cast scores as floats\n",
    "df[today_str] = df[today_str].astype('float64')\n",
    "\n",
    "# check to make sure dtypes changed successfully\n",
    "df.dtypes"
   ]
  },
  {
   "cell_type": "markdown",
   "id": "46d808bd",
   "metadata": {},
   "source": [
    "At this point, we have our starting point for tracking scores across time. The dataframe contains all beers currently in Untappd for this brewery and all of the scores on today's date.\n",
    "\n",
    "We will save this dataframe as a .csv file so we can load it into our next program that will add columns of scores on future dates."
   ]
  },
  {
   "cell_type": "code",
   "execution_count": 11,
   "id": "d5811189",
   "metadata": {},
   "outputs": [],
   "source": [
    "# save dataframe with date\n",
    "df.to_csv('./csv_files/burial_untappd_'+today+'.csv')"
   ]
  }
 ],
 "metadata": {
  "kernelspec": {
   "display_name": "Python 3 (ipykernel)",
   "language": "python",
   "name": "python3"
  },
  "language_info": {
   "codemirror_mode": {
    "name": "ipython",
    "version": 3
   },
   "file_extension": ".py",
   "mimetype": "text/x-python",
   "name": "python",
   "nbconvert_exporter": "python",
   "pygments_lexer": "ipython3",
   "version": "3.9.7"
  }
 },
 "nbformat": 4,
 "nbformat_minor": 5
}
