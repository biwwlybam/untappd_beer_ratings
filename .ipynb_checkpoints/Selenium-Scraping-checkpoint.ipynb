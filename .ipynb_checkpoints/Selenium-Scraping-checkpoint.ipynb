{
 "cells": [
  {
   "cell_type": "code",
   "execution_count": null,
   "id": "75d17502",
   "metadata": {},
   "outputs": [],
   "source": [
    "from selenium import webdriver\n",
    "from selenium.webdriver.chrome.service import Service\n",
    "from webdriver_manager.chrome import ChromeDriverManager\n",
    "from selenium.webdriver.common.by import By\n",
    "from selenium.webdriver.support.ui import WebDriverWait\n",
    "from selenium.webdriver.support import expected_conditions as EC\n",
    "import pandas as pd\n",
    "from datetime import date"
   ]
  },
  {
   "cell_type": "code",
   "execution_count": null,
   "id": "c62eddda",
   "metadata": {},
   "outputs": [],
   "source": [
    "# set up Chrome driver\n",
    "driver = webdriver.Chrome(service=Service(ChromeDriverManager().install()))\n",
    "driver.get(\"https://untappd.com/login?go_to=https://untappd.com/BurialBeer/beer\")"
   ]
  },
  {
   "cell_type": "code",
   "execution_count": 103,
   "id": "95aebd43",
   "metadata": {},
   "outputs": [],
   "source": [
    "# login credentials\n",
    "username = 'biwwlybam'\n",
    "password = 'Brewery123'\n",
    "\n",
    "# log in\n",
    "driver.find_element(By.ID, 'username').send_keys(username)\n",
    "driver.find_element(By.ID, 'password').send_keys(password)\n",
    "\n",
    "# reCaptcha is behind an iFrame\n",
    "WebDriverWait(driver, 20).until(\n",
    "    EC.frame_to_be_available_and_switch_to_it((By.XPATH,\"//iframe[@title='reCAPTCHA']\"))\n",
    ")\n",
    "WebDriverWait(driver, 20).until(\n",
    "    EC.element_to_be_clickable((By.CSS_SELECTOR, \"div.recaptcha-checkbox-border\"))\n",
    ").click()\n",
    "\n",
    "# reCAPTCHA image selector pops up, manually select and submit login"
   ]
  },
  {
   "cell_type": "code",
   "execution_count": 110,
   "id": "465c3b7a",
   "metadata": {},
   "outputs": [
    {
     "ename": "TimeoutException",
     "evalue": "Message: \n",
     "output_type": "error",
     "traceback": [
      "\u001b[0;31m---------------------------------------------------------------------------\u001b[0m",
      "\u001b[0;31mTimeoutException\u001b[0m                          Traceback (most recent call last)",
      "Input \u001b[0;32mIn [110]\u001b[0m, in \u001b[0;36m<cell line: 8>\u001b[0;34m()\u001b[0m\n\u001b[1;32m      8\u001b[0m \u001b[38;5;28;01mwhile\u001b[39;00m \u001b[38;5;28mlen\u001b[39m(show_more_presence) \u001b[38;5;241m>\u001b[39m \u001b[38;5;241m0\u001b[39m:\n\u001b[1;32m      9\u001b[0m     show_more\u001b[38;5;241m.\u001b[39mclick()\n\u001b[0;32m---> 10\u001b[0m     \u001b[43mWebDriverWait\u001b[49m\u001b[43m(\u001b[49m\u001b[43mdriver\u001b[49m\u001b[43m,\u001b[49m\u001b[43m \u001b[49m\u001b[38;5;241;43m5\u001b[39;49m\u001b[43m)\u001b[49m\u001b[38;5;241;43m.\u001b[39;49m\u001b[43muntil\u001b[49m\u001b[43m(\u001b[49m\n\u001b[1;32m     11\u001b[0m \u001b[43m        \u001b[49m\u001b[43mEC\u001b[49m\u001b[38;5;241;43m.\u001b[39;49m\u001b[43mvisibility_of_element_located\u001b[49m\u001b[43m(\u001b[49m\u001b[43m(\u001b[49m\u001b[43mBy\u001b[49m\u001b[38;5;241;43m.\u001b[39;49m\u001b[43mXPATH\u001b[49m\u001b[43m,\u001b[49m\u001b[43m \u001b[49m\u001b[38;5;124;43m'\u001b[39;49m\u001b[38;5;124;43m//a[@class=\u001b[39;49m\u001b[38;5;124;43m\"\u001b[39;49m\u001b[38;5;124;43mbutton yellow more-list-items track-click\u001b[39;49m\u001b[38;5;124;43m\"\u001b[39;49m\u001b[38;5;124;43m]\u001b[39;49m\u001b[38;5;124;43m'\u001b[39;49m\u001b[43m)\u001b[49m\u001b[43m)\u001b[49m\n\u001b[1;32m     12\u001b[0m \u001b[43m    \u001b[49m\u001b[43m)\u001b[49m\n",
      "File \u001b[0;32m/opt/anaconda3/lib/python3.9/site-packages/selenium/webdriver/support/wait.py:90\u001b[0m, in \u001b[0;36mWebDriverWait.until\u001b[0;34m(self, method, message)\u001b[0m\n\u001b[1;32m     88\u001b[0m     \u001b[38;5;28;01mif\u001b[39;00m time\u001b[38;5;241m.\u001b[39mmonotonic() \u001b[38;5;241m>\u001b[39m end_time:\n\u001b[1;32m     89\u001b[0m         \u001b[38;5;28;01mbreak\u001b[39;00m\n\u001b[0;32m---> 90\u001b[0m \u001b[38;5;28;01mraise\u001b[39;00m TimeoutException(message, screen, stacktrace)\n",
      "\u001b[0;31mTimeoutException\u001b[0m: Message: \n"
     ]
    }
   ],
   "source": [
    "# sort beers from old to new\n",
    "driver.get('https://untappd.com/BurialBeer/beer?sort=created_at')\n",
    "\n",
    "# show all beers by clicking \"Show More\" button\n",
    "show_more = driver.find_element(By.XPATH, '//a[@class=\"button yellow more-list-items track-click\"]')\n",
    "show_more_presence = driver.find_elements(By.XPATH, '//a[@class=\"button yellow more-list-items track-click\"]')\n",
    "\n",
    "while len(show_more_presence) > 0:\n",
    "    show_more.click()\n",
    "    WebDriverWait(driver, 5).until(\n",
    "        EC.visibility_of_element_located((By.XPATH, '//a[@class=\"button yellow more-list-items track-click\"]'))\n",
    "    )"
   ]
  },
  {
   "cell_type": "code",
   "execution_count": 111,
   "id": "54b92312",
   "metadata": {},
   "outputs": [],
   "source": [
    "beer_names = driver.find_elements(By.XPATH, '//p[@class=\"name\"]')\n",
    "\n",
    "beer_name_list = []\n",
    "for name in range(len(beer_names)):\n",
    "    beer_name_list.append(beer_names[name].text)"
   ]
  },
  {
   "cell_type": "code",
   "execution_count": 112,
   "id": "6c6d3dc2",
   "metadata": {},
   "outputs": [],
   "source": [
    "beer_scores = driver.find_elements(By.XPATH, '//span[@class=\"num\"]')\n",
    "\n",
    "beer_score_list_unformatted = []\n",
    "for score in range(len(beer_scores)):\n",
    "    beer_score_list_unformatted.append(beer_scores[score].text)\n",
    "    \n",
    "# remove parentheses around scores\n",
    "beer_score_list = []\n",
    "for score in beer_score_list_unformatted:\n",
    "    beer_score_list.append(score.strip('()'))\n",
    "\n",
    "# skip overall brewery score (first)\n",
    "beer_score_list = beer_score_list[1:]"
   ]
  },
  {
   "cell_type": "code",
   "execution_count": 113,
   "id": "80c67c1a",
   "metadata": {},
   "outputs": [],
   "source": [
    "# create dataframe\n",
    "df = pd.DataFrame()\n",
    "\n",
    "today = date.today().strftime('%m-%d-%Y')\n",
    "score_date = 'scores_' + today\n",
    "\n",
    "# add columns\n",
    "df['beer_names'] = beer_name_list\n",
    "df[score_date] = beer_score_list"
   ]
  },
  {
   "cell_type": "code",
   "execution_count": 114,
   "id": "498378fa",
   "metadata": {},
   "outputs": [
    {
     "data": {
      "text/html": [
       "<div>\n",
       "<style scoped>\n",
       "    .dataframe tbody tr th:only-of-type {\n",
       "        vertical-align: middle;\n",
       "    }\n",
       "\n",
       "    .dataframe tbody tr th {\n",
       "        vertical-align: top;\n",
       "    }\n",
       "\n",
       "    .dataframe thead th {\n",
       "        text-align: right;\n",
       "    }\n",
       "</style>\n",
       "<table border=\"1\" class=\"dataframe\">\n",
       "  <thead>\n",
       "    <tr style=\"text-align: right;\">\n",
       "      <th></th>\n",
       "      <th>beer_names</th>\n",
       "      <th>scores_07-26-2022</th>\n",
       "    </tr>\n",
       "  </thead>\n",
       "  <tbody>\n",
       "    <tr>\n",
       "      <th>0</th>\n",
       "      <td>Hatchet</td>\n",
       "      <td>3.58</td>\n",
       "    </tr>\n",
       "    <tr>\n",
       "      <th>1</th>\n",
       "      <td>Skillet Donut Stout</td>\n",
       "      <td>4.17</td>\n",
       "    </tr>\n",
       "    <tr>\n",
       "      <th>2</th>\n",
       "      <td>Billhook Farmhouse Ale</td>\n",
       "      <td>3.7</td>\n",
       "    </tr>\n",
       "    <tr>\n",
       "      <th>3</th>\n",
       "      <td>Scythe Rye IPA</td>\n",
       "      <td>3.92</td>\n",
       "    </tr>\n",
       "    <tr>\n",
       "      <th>4</th>\n",
       "      <td>Hacksaw Dunkel</td>\n",
       "      <td>3.65</td>\n",
       "    </tr>\n",
       "    <tr>\n",
       "      <th>...</th>\n",
       "      <td>...</td>\n",
       "      <td>...</td>\n",
       "    </tr>\n",
       "    <tr>\n",
       "      <th>1228</th>\n",
       "      <td>A Collection of Idiocy From A Top Notch Moron</td>\n",
       "      <td>N/A</td>\n",
       "    </tr>\n",
       "    <tr>\n",
       "      <th>1229</th>\n",
       "      <td>Treading Onward Towards Oblivion</td>\n",
       "      <td>N/A</td>\n",
       "    </tr>\n",
       "    <tr>\n",
       "      <th>1230</th>\n",
       "      <td>Provincial Illusions of Antiquity</td>\n",
       "      <td>N/A</td>\n",
       "    </tr>\n",
       "    <tr>\n",
       "      <th>1231</th>\n",
       "      <td>Tonin' the Destroyer</td>\n",
       "      <td>N/A</td>\n",
       "    </tr>\n",
       "    <tr>\n",
       "      <th>1232</th>\n",
       "      <td>Please Rescue Me From My Own Ignorant Barrage ...</td>\n",
       "      <td>N/A</td>\n",
       "    </tr>\n",
       "  </tbody>\n",
       "</table>\n",
       "<p>1233 rows × 2 columns</p>\n",
       "</div>"
      ],
      "text/plain": [
       "                                             beer_names scores_07-26-2022\n",
       "0                                               Hatchet              3.58\n",
       "1                                   Skillet Donut Stout              4.17\n",
       "2                                Billhook Farmhouse Ale               3.7\n",
       "3                                        Scythe Rye IPA              3.92\n",
       "4                                        Hacksaw Dunkel              3.65\n",
       "...                                                 ...               ...\n",
       "1228      A Collection of Idiocy From A Top Notch Moron               N/A\n",
       "1229                   Treading Onward Towards Oblivion               N/A\n",
       "1230                  Provincial Illusions of Antiquity               N/A\n",
       "1231                               Tonin' the Destroyer               N/A\n",
       "1232  Please Rescue Me From My Own Ignorant Barrage ...               N/A\n",
       "\n",
       "[1233 rows x 2 columns]"
      ]
     },
     "execution_count": 114,
     "metadata": {},
     "output_type": "execute_result"
    }
   ],
   "source": [
    "df"
   ]
  },
  {
   "cell_type": "code",
   "execution_count": null,
   "id": "d8fab655",
   "metadata": {},
   "outputs": [],
   "source": []
  }
 ],
 "metadata": {
  "kernelspec": {
   "display_name": "Python 3 (ipykernel)",
   "language": "python",
   "name": "python3"
  },
  "language_info": {
   "codemirror_mode": {
    "name": "ipython",
    "version": 3
   },
   "file_extension": ".py",
   "mimetype": "text/x-python",
   "name": "python",
   "nbconvert_exporter": "python",
   "pygments_lexer": "ipython3",
   "version": "3.9.7"
  }
 },
 "nbformat": 4,
 "nbformat_minor": 5
}
